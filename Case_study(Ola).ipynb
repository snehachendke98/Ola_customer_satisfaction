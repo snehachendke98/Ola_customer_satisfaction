{
 "cells": [
  {
   "cell_type": "markdown",
   "id": "50f93c52",
   "metadata": {},
   "source": [
    "# Import data"
   ]
  },
  {
   "cell_type": "code",
   "execution_count": 1,
   "id": "6abef814",
   "metadata": {},
   "outputs": [
    {
     "data": {
      "text/html": [
       "<div>\n",
       "<style scoped>\n",
       "    .dataframe tbody tr th:only-of-type {\n",
       "        vertical-align: middle;\n",
       "    }\n",
       "\n",
       "    .dataframe tbody tr th {\n",
       "        vertical-align: top;\n",
       "    }\n",
       "\n",
       "    .dataframe thead th {\n",
       "        text-align: right;\n",
       "    }\n",
       "</style>\n",
       "<table border=\"1\" class=\"dataframe\">\n",
       "  <thead>\n",
       "    <tr style=\"text-align: right;\">\n",
       "      <th></th>\n",
       "      <th>Timestamp</th>\n",
       "      <th>Email Address</th>\n",
       "      <th>Age Group</th>\n",
       "      <th>Gender</th>\n",
       "      <th>Marital status</th>\n",
       "      <th>How often do you use Ola cabs</th>\n",
       "      <th>During what period of time of the day you prefer using Ola cabs</th>\n",
       "      <th>For what purpose you use Ola cabs</th>\n",
       "      <th>Do you think Ola cabs are affordable</th>\n",
       "      <th>Do you think the cab drivers are well equipped with the technology</th>\n",
       "      <th>...</th>\n",
       "      <th>Which services would you prefer while using cabs</th>\n",
       "      <th>Is the app design easy to understand</th>\n",
       "      <th>Do you think cab hygeine is maintained</th>\n",
       "      <th>Offers_during_festivals</th>\n",
       "      <th>Do you have a health insurance</th>\n",
       "      <th>Any_bad_experience</th>\n",
       "      <th>How important is the cleanliness of the cab</th>\n",
       "      <th>Safety_Security_features</th>\n",
       "      <th>In your opinion was the cab drive polite</th>\n",
       "      <th>Any_suggestions</th>\n",
       "    </tr>\n",
       "  </thead>\n",
       "  <tbody>\n",
       "    <tr>\n",
       "      <th>0</th>\n",
       "      <td>2022-04-12 11:43:55.082</td>\n",
       "      <td>snehachendke98@gmail.com</td>\n",
       "      <td>18-30</td>\n",
       "      <td>Female</td>\n",
       "      <td>Single</td>\n",
       "      <td>Monthly</td>\n",
       "      <td>Afternoon</td>\n",
       "      <td>Travel to and fro from office</td>\n",
       "      <td>Yes</td>\n",
       "      <td>Disagree</td>\n",
       "      <td>...</td>\n",
       "      <td>All</td>\n",
       "      <td>Difficult</td>\n",
       "      <td>Yes</td>\n",
       "      <td>Yes</td>\n",
       "      <td>Yes</td>\n",
       "      <td>No</td>\n",
       "      <td>Very important</td>\n",
       "      <td>All</td>\n",
       "      <td>Yes</td>\n",
       "      <td>NaN</td>\n",
       "    </tr>\n",
       "    <tr>\n",
       "      <th>1</th>\n",
       "      <td>2022-04-12 13:14:06.465</td>\n",
       "      <td>priyanka.grover2000@gmail.com</td>\n",
       "      <td>30-50</td>\n",
       "      <td>Female</td>\n",
       "      <td>Married</td>\n",
       "      <td>Rarely</td>\n",
       "      <td>Afternoon</td>\n",
       "      <td>Airport / Railways</td>\n",
       "      <td>Yes</td>\n",
       "      <td>Disagree</td>\n",
       "      <td>...</td>\n",
       "      <td>All</td>\n",
       "      <td>Easy</td>\n",
       "      <td>No</td>\n",
       "      <td>Yes</td>\n",
       "      <td>Yes</td>\n",
       "      <td>No</td>\n",
       "      <td>Very important</td>\n",
       "      <td>GPS Tracking</td>\n",
       "      <td>No</td>\n",
       "      <td>Customer Relation Service should be enhanced, ...</td>\n",
       "    </tr>\n",
       "    <tr>\n",
       "      <th>2</th>\n",
       "      <td>2022-04-12 13:22:21.183</td>\n",
       "      <td>yeshpawar97@gmail.com</td>\n",
       "      <td>18-30</td>\n",
       "      <td>Male</td>\n",
       "      <td>Single</td>\n",
       "      <td>Rarely</td>\n",
       "      <td>Evening</td>\n",
       "      <td>Attend entertainment events</td>\n",
       "      <td>No</td>\n",
       "      <td>Agree</td>\n",
       "      <td>...</td>\n",
       "      <td>All</td>\n",
       "      <td>Easy</td>\n",
       "      <td>Yes</td>\n",
       "      <td>Yes</td>\n",
       "      <td>No</td>\n",
       "      <td>Once</td>\n",
       "      <td>Very important</td>\n",
       "      <td>GPS Tracking</td>\n",
       "      <td>Yes</td>\n",
       "      <td>No suggestions</td>\n",
       "    </tr>\n",
       "    <tr>\n",
       "      <th>3</th>\n",
       "      <td>2022-04-12 13:59:48.444</td>\n",
       "      <td>Sangrammohite27@gmail.com</td>\n",
       "      <td>18-30</td>\n",
       "      <td>Male</td>\n",
       "      <td>Single</td>\n",
       "      <td>Monthly</td>\n",
       "      <td>Morning</td>\n",
       "      <td>Travel to and fro from office</td>\n",
       "      <td>No</td>\n",
       "      <td>Agree</td>\n",
       "      <td>...</td>\n",
       "      <td>All</td>\n",
       "      <td>Easy</td>\n",
       "      <td>No</td>\n",
       "      <td>Yes</td>\n",
       "      <td>Yes</td>\n",
       "      <td>No</td>\n",
       "      <td>Very important</td>\n",
       "      <td>All</td>\n",
       "      <td>Yes</td>\n",
       "      <td>NaN</td>\n",
       "    </tr>\n",
       "    <tr>\n",
       "      <th>4</th>\n",
       "      <td>2022-04-12 14:30:22.185</td>\n",
       "      <td>prajaktafulpagar8@gmail.com</td>\n",
       "      <td>18-30</td>\n",
       "      <td>Female</td>\n",
       "      <td>Single</td>\n",
       "      <td>Rarely</td>\n",
       "      <td>Afternoon</td>\n",
       "      <td>Travel to and fro from office</td>\n",
       "      <td>No</td>\n",
       "      <td>Agree</td>\n",
       "      <td>...</td>\n",
       "      <td>All</td>\n",
       "      <td>Easy</td>\n",
       "      <td>NaN</td>\n",
       "      <td>Yes</td>\n",
       "      <td>NaN</td>\n",
       "      <td>Once</td>\n",
       "      <td>Very important</td>\n",
       "      <td>All</td>\n",
       "      <td>NaN</td>\n",
       "      <td>Please reduce prices so every non working peop...</td>\n",
       "    </tr>\n",
       "  </tbody>\n",
       "</table>\n",
       "<p>5 rows × 21 columns</p>\n",
       "</div>"
      ],
      "text/plain": [
       "                Timestamp                  Email Address  Age Group  Gender  \\\n",
       "0 2022-04-12 11:43:55.082       snehachendke98@gmail.com      18-30  Female   \n",
       "1 2022-04-12 13:14:06.465  priyanka.grover2000@gmail.com      30-50  Female   \n",
       "2 2022-04-12 13:22:21.183          yeshpawar97@gmail.com      18-30    Male   \n",
       "3 2022-04-12 13:59:48.444      Sangrammohite27@gmail.com      18-30    Male   \n",
       "4 2022-04-12 14:30:22.185    prajaktafulpagar8@gmail.com      18-30  Female   \n",
       "\n",
       "  Marital status How often do you use Ola cabs  \\\n",
       "0         Single                       Monthly   \n",
       "1        Married                        Rarely   \n",
       "2         Single                        Rarely   \n",
       "3         Single                       Monthly   \n",
       "4         Single                        Rarely   \n",
       "\n",
       "  During what period of time of the day you prefer using Ola cabs  \\\n",
       "0                                          Afternoon                \n",
       "1                                          Afternoon                \n",
       "2                                            Evening                \n",
       "3                                            Morning                \n",
       "4                                          Afternoon                \n",
       "\n",
       "  For what purpose you use Ola cabs Do you think Ola cabs are affordable  \\\n",
       "0     Travel to and fro from office                                  Yes   \n",
       "1                Airport / Railways                                  Yes   \n",
       "2       Attend entertainment events                                   No   \n",
       "3     Travel to and fro from office                                   No   \n",
       "4     Travel to and fro from office                                   No   \n",
       "\n",
       "  Do you think the cab drivers are well equipped with the technology  ...  \\\n",
       "0                                           Disagree                  ...   \n",
       "1                                           Disagree                  ...   \n",
       "2                                              Agree                  ...   \n",
       "3                                              Agree                  ...   \n",
       "4                                              Agree                  ...   \n",
       "\n",
       "  Which services would you prefer while using cabs  \\\n",
       "0                                              All   \n",
       "1                                              All   \n",
       "2                                              All   \n",
       "3                                              All   \n",
       "4                                              All   \n",
       "\n",
       "  Is the app design easy to understand Do you think cab hygeine is maintained  \\\n",
       "0                            Difficult                                    Yes   \n",
       "1                                 Easy                                     No   \n",
       "2                                 Easy                                    Yes   \n",
       "3                                 Easy                                     No   \n",
       "4                                 Easy                                    NaN   \n",
       "\n",
       "  Offers_during_festivals Do you have a health insurance Any_bad_experience  \\\n",
       "0                     Yes                            Yes                 No   \n",
       "1                     Yes                            Yes                 No   \n",
       "2                     Yes                             No               Once   \n",
       "3                     Yes                            Yes                 No   \n",
       "4                     Yes                            NaN               Once   \n",
       "\n",
       "  How important is the cleanliness of the cab Safety_Security_features  \\\n",
       "0                              Very important                      All   \n",
       "1                              Very important             GPS Tracking   \n",
       "2                              Very important             GPS Tracking   \n",
       "3                              Very important                      All   \n",
       "4                              Very important                      All   \n",
       "\n",
       "  In your opinion was the cab drive polite  \\\n",
       "0                                      Yes   \n",
       "1                                       No   \n",
       "2                                      Yes   \n",
       "3                                      Yes   \n",
       "4                                      NaN   \n",
       "\n",
       "                                     Any_suggestions  \n",
       "0                                                NaN  \n",
       "1  Customer Relation Service should be enhanced, ...  \n",
       "2                                     No suggestions  \n",
       "3                                                NaN  \n",
       "4  Please reduce prices so every non working peop...  \n",
       "\n",
       "[5 rows x 21 columns]"
      ]
     },
     "execution_count": 1,
     "metadata": {},
     "output_type": "execute_result"
    }
   ],
   "source": [
    "import pandas as pd\n",
    "new=pd.read_excel(r'C:\\Users\\SNEHA\\Downloads\\Ola satisfaction Responses.xlsx')\n",
    "new.head()"
   ]
  },
  {
   "cell_type": "markdown",
   "id": "2363208e",
   "metadata": {},
   "source": [
    "# Change column names"
   ]
  },
  {
   "cell_type": "code",
   "execution_count": 2,
   "id": "a264d485",
   "metadata": {},
   "outputs": [
    {
     "data": {
      "text/html": [
       "<div>\n",
       "<style scoped>\n",
       "    .dataframe tbody tr th:only-of-type {\n",
       "        vertical-align: middle;\n",
       "    }\n",
       "\n",
       "    .dataframe tbody tr th {\n",
       "        vertical-align: top;\n",
       "    }\n",
       "\n",
       "    .dataframe thead th {\n",
       "        text-align: right;\n",
       "    }\n",
       "</style>\n",
       "<table border=\"1\" class=\"dataframe\">\n",
       "  <thead>\n",
       "    <tr style=\"text-align: right;\">\n",
       "      <th></th>\n",
       "      <th>Timestamp</th>\n",
       "      <th>Email</th>\n",
       "      <th>Age Group</th>\n",
       "      <th>Gender</th>\n",
       "      <th>Marital_status</th>\n",
       "      <th>Usage</th>\n",
       "      <th>Time_period</th>\n",
       "      <th>Purpose</th>\n",
       "      <th>Affordable</th>\n",
       "      <th>Driver_well_equipped_with_tecnology</th>\n",
       "      <th>...</th>\n",
       "      <th>Service_preference</th>\n",
       "      <th>App_operation</th>\n",
       "      <th>Hygienic</th>\n",
       "      <th>Offers_during_festivals</th>\n",
       "      <th>Health_insurance</th>\n",
       "      <th>Any_bad_experience</th>\n",
       "      <th>Cleanliness</th>\n",
       "      <th>Safety_Security_features</th>\n",
       "      <th>Driver_polite</th>\n",
       "      <th>Any_suggestions</th>\n",
       "    </tr>\n",
       "  </thead>\n",
       "  <tbody>\n",
       "    <tr>\n",
       "      <th>0</th>\n",
       "      <td>2022-04-12 11:43:55.082</td>\n",
       "      <td>snehachendke98@gmail.com</td>\n",
       "      <td>18-30</td>\n",
       "      <td>Female</td>\n",
       "      <td>Single</td>\n",
       "      <td>Monthly</td>\n",
       "      <td>Afternoon</td>\n",
       "      <td>Travel to and fro from office</td>\n",
       "      <td>Yes</td>\n",
       "      <td>Disagree</td>\n",
       "      <td>...</td>\n",
       "      <td>All</td>\n",
       "      <td>Difficult</td>\n",
       "      <td>Yes</td>\n",
       "      <td>Yes</td>\n",
       "      <td>Yes</td>\n",
       "      <td>No</td>\n",
       "      <td>Very important</td>\n",
       "      <td>All</td>\n",
       "      <td>Yes</td>\n",
       "      <td>NaN</td>\n",
       "    </tr>\n",
       "    <tr>\n",
       "      <th>1</th>\n",
       "      <td>2022-04-12 13:14:06.465</td>\n",
       "      <td>priyanka.grover2000@gmail.com</td>\n",
       "      <td>30-50</td>\n",
       "      <td>Female</td>\n",
       "      <td>Married</td>\n",
       "      <td>Rarely</td>\n",
       "      <td>Afternoon</td>\n",
       "      <td>Airport / Railways</td>\n",
       "      <td>Yes</td>\n",
       "      <td>Disagree</td>\n",
       "      <td>...</td>\n",
       "      <td>All</td>\n",
       "      <td>Easy</td>\n",
       "      <td>No</td>\n",
       "      <td>Yes</td>\n",
       "      <td>Yes</td>\n",
       "      <td>No</td>\n",
       "      <td>Very important</td>\n",
       "      <td>GPS Tracking</td>\n",
       "      <td>No</td>\n",
       "      <td>Customer Relation Service should be enhanced, ...</td>\n",
       "    </tr>\n",
       "    <tr>\n",
       "      <th>2</th>\n",
       "      <td>2022-04-12 13:22:21.183</td>\n",
       "      <td>yeshpawar97@gmail.com</td>\n",
       "      <td>18-30</td>\n",
       "      <td>Male</td>\n",
       "      <td>Single</td>\n",
       "      <td>Rarely</td>\n",
       "      <td>Evening</td>\n",
       "      <td>Attend entertainment events</td>\n",
       "      <td>No</td>\n",
       "      <td>Agree</td>\n",
       "      <td>...</td>\n",
       "      <td>All</td>\n",
       "      <td>Easy</td>\n",
       "      <td>Yes</td>\n",
       "      <td>Yes</td>\n",
       "      <td>No</td>\n",
       "      <td>Once</td>\n",
       "      <td>Very important</td>\n",
       "      <td>GPS Tracking</td>\n",
       "      <td>Yes</td>\n",
       "      <td>No suggestions</td>\n",
       "    </tr>\n",
       "    <tr>\n",
       "      <th>3</th>\n",
       "      <td>2022-04-12 13:59:48.444</td>\n",
       "      <td>Sangrammohite27@gmail.com</td>\n",
       "      <td>18-30</td>\n",
       "      <td>Male</td>\n",
       "      <td>Single</td>\n",
       "      <td>Monthly</td>\n",
       "      <td>Morning</td>\n",
       "      <td>Travel to and fro from office</td>\n",
       "      <td>No</td>\n",
       "      <td>Agree</td>\n",
       "      <td>...</td>\n",
       "      <td>All</td>\n",
       "      <td>Easy</td>\n",
       "      <td>No</td>\n",
       "      <td>Yes</td>\n",
       "      <td>Yes</td>\n",
       "      <td>No</td>\n",
       "      <td>Very important</td>\n",
       "      <td>All</td>\n",
       "      <td>Yes</td>\n",
       "      <td>NaN</td>\n",
       "    </tr>\n",
       "    <tr>\n",
       "      <th>4</th>\n",
       "      <td>2022-04-12 14:30:22.185</td>\n",
       "      <td>prajaktafulpagar8@gmail.com</td>\n",
       "      <td>18-30</td>\n",
       "      <td>Female</td>\n",
       "      <td>Single</td>\n",
       "      <td>Rarely</td>\n",
       "      <td>Afternoon</td>\n",
       "      <td>Travel to and fro from office</td>\n",
       "      <td>No</td>\n",
       "      <td>Agree</td>\n",
       "      <td>...</td>\n",
       "      <td>All</td>\n",
       "      <td>Easy</td>\n",
       "      <td>NaN</td>\n",
       "      <td>Yes</td>\n",
       "      <td>NaN</td>\n",
       "      <td>Once</td>\n",
       "      <td>Very important</td>\n",
       "      <td>All</td>\n",
       "      <td>NaN</td>\n",
       "      <td>Please reduce prices so every non working peop...</td>\n",
       "    </tr>\n",
       "  </tbody>\n",
       "</table>\n",
       "<p>5 rows × 21 columns</p>\n",
       "</div>"
      ],
      "text/plain": [
       "                Timestamp                          Email  Age Group  Gender  \\\n",
       "0 2022-04-12 11:43:55.082       snehachendke98@gmail.com      18-30  Female   \n",
       "1 2022-04-12 13:14:06.465  priyanka.grover2000@gmail.com      30-50  Female   \n",
       "2 2022-04-12 13:22:21.183          yeshpawar97@gmail.com      18-30    Male   \n",
       "3 2022-04-12 13:59:48.444      Sangrammohite27@gmail.com      18-30    Male   \n",
       "4 2022-04-12 14:30:22.185    prajaktafulpagar8@gmail.com      18-30  Female   \n",
       "\n",
       "  Marital_status    Usage Time_period                        Purpose  \\\n",
       "0         Single  Monthly   Afternoon  Travel to and fro from office   \n",
       "1        Married   Rarely   Afternoon             Airport / Railways   \n",
       "2         Single   Rarely     Evening    Attend entertainment events   \n",
       "3         Single  Monthly     Morning  Travel to and fro from office   \n",
       "4         Single   Rarely   Afternoon  Travel to and fro from office   \n",
       "\n",
       "  Affordable Driver_well_equipped_with_tecnology  ... Service_preference  \\\n",
       "0        Yes                            Disagree  ...                All   \n",
       "1        Yes                            Disagree  ...                All   \n",
       "2         No                               Agree  ...                All   \n",
       "3         No                               Agree  ...                All   \n",
       "4         No                               Agree  ...                All   \n",
       "\n",
       "  App_operation Hygienic Offers_during_festivals Health_insurance  \\\n",
       "0     Difficult      Yes                     Yes              Yes   \n",
       "1          Easy       No                     Yes              Yes   \n",
       "2          Easy      Yes                     Yes               No   \n",
       "3          Easy       No                     Yes              Yes   \n",
       "4          Easy      NaN                     Yes              NaN   \n",
       "\n",
       "  Any_bad_experience     Cleanliness Safety_Security_features Driver_polite  \\\n",
       "0                 No  Very important                      All           Yes   \n",
       "1                 No  Very important             GPS Tracking            No   \n",
       "2               Once  Very important             GPS Tracking           Yes   \n",
       "3                 No  Very important                      All           Yes   \n",
       "4               Once  Very important                      All           NaN   \n",
       "\n",
       "                                     Any_suggestions  \n",
       "0                                                NaN  \n",
       "1  Customer Relation Service should be enhanced, ...  \n",
       "2                                     No suggestions  \n",
       "3                                                NaN  \n",
       "4  Please reduce prices so every non working peop...  \n",
       "\n",
       "[5 rows x 21 columns]"
      ]
     },
     "execution_count": 2,
     "metadata": {},
     "output_type": "execute_result"
    }
   ],
   "source": [
    "new.rename(columns={'Email Address':'Email',\n",
    "                   'Age Group':'Age',\n",
    "                   'Marital status':'Marital_status',\n",
    "                   'How often do you use Ola cabs':'Usage',\n",
    "                   'During what period of time of the day you prefer using Ola cabs':'Time_period',\n",
    "                   'For what purpose you use Ola cabs':'Purpose',\n",
    "                   'Do you think Ola cabs are affordable':'Affordable',\n",
    "                   'Do you think the cab drivers are well equipped with the technology':'Driver_well_equipped_with_tecnology',\n",
    "                   'Which payment mode you prefer':'Payment_mode',\n",
    "                   'Which services would you prefer while using cabs':'Service_preference',\n",
    "                   'Is the app design easy to understand':'App_operation',\n",
    "                   'Do you think cab hygeine is maintained':'Hygienic',\n",
    "                   'Do you have a health insurance':'Health_insurance',\n",
    "                   'How important is the cleanliness of the cab':'Cleanliness',\n",
    "                   'Safety and Security feature would help':'Safety_Security_features',\n",
    "                   'In your opinion was the cab drive polite':'Driver_polite',\n",
    "                   'Any suggestions for the improvement in our services':'Any_suggestions'},inplace=True)\n",
    "new.head()"
   ]
  },
  {
   "cell_type": "markdown",
   "id": "bd078138",
   "metadata": {},
   "source": [
    "# Identify null values"
   ]
  },
  {
   "cell_type": "code",
   "execution_count": 3,
   "id": "d6d1bd5d",
   "metadata": {},
   "outputs": [
    {
     "name": "stdout",
     "output_type": "stream",
     "text": [
      "<class 'pandas.core.frame.DataFrame'>\n",
      "RangeIndex: 296 entries, 0 to 295\n",
      "Data columns (total 21 columns):\n",
      " #   Column                               Non-Null Count  Dtype         \n",
      "---  ------                               --------------  -----         \n",
      " 0   Timestamp                            296 non-null    datetime64[ns]\n",
      " 1   Email                                296 non-null    object        \n",
      " 2    Age Group                           296 non-null    object        \n",
      " 3   Gender                               296 non-null    object        \n",
      " 4   Marital_status                       296 non-null    object        \n",
      " 5   Usage                                296 non-null    object        \n",
      " 6   Time_period                          296 non-null    object        \n",
      " 7   Purpose                              296 non-null    object        \n",
      " 8   Affordable                           294 non-null    object        \n",
      " 9   Driver_well_equipped_with_tecnology  291 non-null    object        \n",
      " 10  Payment_mode                         295 non-null    object        \n",
      " 11  Service_preference                   293 non-null    object        \n",
      " 12  App_operation                        293 non-null    object        \n",
      " 13  Hygienic                             289 non-null    object        \n",
      " 14  Offers_during_festivals              294 non-null    object        \n",
      " 15  Health_insurance                     288 non-null    object        \n",
      " 16  Any_bad_experience                   296 non-null    object        \n",
      " 17  Cleanliness                          294 non-null    object        \n",
      " 18  Safety_Security_features             290 non-null    object        \n",
      " 19  Driver_polite                        287 non-null    object        \n",
      " 20  Any_suggestions                      126 non-null    object        \n",
      "dtypes: datetime64[ns](1), object(20)\n",
      "memory usage: 48.7+ KB\n"
     ]
    }
   ],
   "source": [
    "new.info()"
   ]
  },
  {
   "cell_type": "code",
   "execution_count": 4,
   "id": "6860956d",
   "metadata": {},
   "outputs": [
    {
     "data": {
      "text/plain": [
       "Timestamp                                0\n",
       "Email                                    0\n",
       " Age Group                               0\n",
       "Gender                                   0\n",
       "Marital_status                           0\n",
       "Usage                                    0\n",
       "Time_period                              0\n",
       "Purpose                                  0\n",
       "Affordable                               2\n",
       "Driver_well_equipped_with_tecnology      5\n",
       "Payment_mode                             1\n",
       "Service_preference                       3\n",
       "App_operation                            3\n",
       "Hygienic                                 7\n",
       "Offers_during_festivals                  2\n",
       "Health_insurance                         8\n",
       "Any_bad_experience                       0\n",
       "Cleanliness                              2\n",
       "Safety_Security_features                 6\n",
       "Driver_polite                            9\n",
       "Any_suggestions                        170\n",
       "dtype: int64"
      ]
     },
     "execution_count": 4,
     "metadata": {},
     "output_type": "execute_result"
    }
   ],
   "source": [
    "new.isnull().sum()"
   ]
  },
  {
   "cell_type": "code",
   "execution_count": 5,
   "id": "3ae97d2d",
   "metadata": {},
   "outputs": [],
   "source": [
    "new=new.drop('Any_suggestions',axis=1)"
   ]
  },
  {
   "cell_type": "code",
   "execution_count": 6,
   "id": "609de6ee",
   "metadata": {},
   "outputs": [
    {
     "data": {
      "text/html": [
       "<div>\n",
       "<style scoped>\n",
       "    .dataframe tbody tr th:only-of-type {\n",
       "        vertical-align: middle;\n",
       "    }\n",
       "\n",
       "    .dataframe tbody tr th {\n",
       "        vertical-align: top;\n",
       "    }\n",
       "\n",
       "    .dataframe thead th {\n",
       "        text-align: right;\n",
       "    }\n",
       "</style>\n",
       "<table border=\"1\" class=\"dataframe\">\n",
       "  <thead>\n",
       "    <tr style=\"text-align: right;\">\n",
       "      <th></th>\n",
       "      <th>Timestamp</th>\n",
       "      <th>Email</th>\n",
       "      <th>Age Group</th>\n",
       "      <th>Gender</th>\n",
       "      <th>Marital_status</th>\n",
       "      <th>Usage</th>\n",
       "      <th>Time_period</th>\n",
       "      <th>Purpose</th>\n",
       "      <th>Affordable</th>\n",
       "      <th>Driver_well_equipped_with_tecnology</th>\n",
       "      <th>Payment_mode</th>\n",
       "      <th>Service_preference</th>\n",
       "      <th>App_operation</th>\n",
       "      <th>Hygienic</th>\n",
       "      <th>Offers_during_festivals</th>\n",
       "      <th>Health_insurance</th>\n",
       "      <th>Any_bad_experience</th>\n",
       "      <th>Cleanliness</th>\n",
       "      <th>Safety_Security_features</th>\n",
       "      <th>Driver_polite</th>\n",
       "    </tr>\n",
       "  </thead>\n",
       "  <tbody>\n",
       "    <tr>\n",
       "      <th>0</th>\n",
       "      <td>2022-04-12 11:43:55.082</td>\n",
       "      <td>snehachendke98@gmail.com</td>\n",
       "      <td>18-30</td>\n",
       "      <td>Female</td>\n",
       "      <td>Single</td>\n",
       "      <td>Monthly</td>\n",
       "      <td>Afternoon</td>\n",
       "      <td>Travel to and fro from office</td>\n",
       "      <td>Yes</td>\n",
       "      <td>Disagree</td>\n",
       "      <td>Traditional ( Cash)</td>\n",
       "      <td>All</td>\n",
       "      <td>Difficult</td>\n",
       "      <td>Yes</td>\n",
       "      <td>Yes</td>\n",
       "      <td>Yes</td>\n",
       "      <td>No</td>\n",
       "      <td>Very important</td>\n",
       "      <td>All</td>\n",
       "      <td>Yes</td>\n",
       "    </tr>\n",
       "    <tr>\n",
       "      <th>1</th>\n",
       "      <td>2022-04-12 13:14:06.465</td>\n",
       "      <td>priyanka.grover2000@gmail.com</td>\n",
       "      <td>30-50</td>\n",
       "      <td>Female</td>\n",
       "      <td>Married</td>\n",
       "      <td>Rarely</td>\n",
       "      <td>Afternoon</td>\n",
       "      <td>Airport / Railways</td>\n",
       "      <td>Yes</td>\n",
       "      <td>Disagree</td>\n",
       "      <td>UPI</td>\n",
       "      <td>All</td>\n",
       "      <td>Easy</td>\n",
       "      <td>No</td>\n",
       "      <td>Yes</td>\n",
       "      <td>Yes</td>\n",
       "      <td>No</td>\n",
       "      <td>Very important</td>\n",
       "      <td>GPS Tracking</td>\n",
       "      <td>No</td>\n",
       "    </tr>\n",
       "    <tr>\n",
       "      <th>2</th>\n",
       "      <td>2022-04-12 13:22:21.183</td>\n",
       "      <td>yeshpawar97@gmail.com</td>\n",
       "      <td>18-30</td>\n",
       "      <td>Male</td>\n",
       "      <td>Single</td>\n",
       "      <td>Rarely</td>\n",
       "      <td>Evening</td>\n",
       "      <td>Attend entertainment events</td>\n",
       "      <td>No</td>\n",
       "      <td>Agree</td>\n",
       "      <td>UPI</td>\n",
       "      <td>All</td>\n",
       "      <td>Easy</td>\n",
       "      <td>Yes</td>\n",
       "      <td>Yes</td>\n",
       "      <td>No</td>\n",
       "      <td>Once</td>\n",
       "      <td>Very important</td>\n",
       "      <td>GPS Tracking</td>\n",
       "      <td>Yes</td>\n",
       "    </tr>\n",
       "    <tr>\n",
       "      <th>3</th>\n",
       "      <td>2022-04-12 13:59:48.444</td>\n",
       "      <td>Sangrammohite27@gmail.com</td>\n",
       "      <td>18-30</td>\n",
       "      <td>Male</td>\n",
       "      <td>Single</td>\n",
       "      <td>Monthly</td>\n",
       "      <td>Morning</td>\n",
       "      <td>Travel to and fro from office</td>\n",
       "      <td>No</td>\n",
       "      <td>Agree</td>\n",
       "      <td>Ola wallet</td>\n",
       "      <td>All</td>\n",
       "      <td>Easy</td>\n",
       "      <td>No</td>\n",
       "      <td>Yes</td>\n",
       "      <td>Yes</td>\n",
       "      <td>No</td>\n",
       "      <td>Very important</td>\n",
       "      <td>All</td>\n",
       "      <td>Yes</td>\n",
       "    </tr>\n",
       "    <tr>\n",
       "      <th>4</th>\n",
       "      <td>2022-04-12 14:30:22.185</td>\n",
       "      <td>prajaktafulpagar8@gmail.com</td>\n",
       "      <td>18-30</td>\n",
       "      <td>Female</td>\n",
       "      <td>Single</td>\n",
       "      <td>Rarely</td>\n",
       "      <td>Afternoon</td>\n",
       "      <td>Travel to and fro from office</td>\n",
       "      <td>No</td>\n",
       "      <td>Agree</td>\n",
       "      <td>UPI</td>\n",
       "      <td>All</td>\n",
       "      <td>Easy</td>\n",
       "      <td>NaN</td>\n",
       "      <td>Yes</td>\n",
       "      <td>NaN</td>\n",
       "      <td>Once</td>\n",
       "      <td>Very important</td>\n",
       "      <td>All</td>\n",
       "      <td>NaN</td>\n",
       "    </tr>\n",
       "  </tbody>\n",
       "</table>\n",
       "</div>"
      ],
      "text/plain": [
       "                Timestamp                          Email  Age Group  Gender  \\\n",
       "0 2022-04-12 11:43:55.082       snehachendke98@gmail.com      18-30  Female   \n",
       "1 2022-04-12 13:14:06.465  priyanka.grover2000@gmail.com      30-50  Female   \n",
       "2 2022-04-12 13:22:21.183          yeshpawar97@gmail.com      18-30    Male   \n",
       "3 2022-04-12 13:59:48.444      Sangrammohite27@gmail.com      18-30    Male   \n",
       "4 2022-04-12 14:30:22.185    prajaktafulpagar8@gmail.com      18-30  Female   \n",
       "\n",
       "  Marital_status    Usage Time_period                        Purpose  \\\n",
       "0         Single  Monthly   Afternoon  Travel to and fro from office   \n",
       "1        Married   Rarely   Afternoon             Airport / Railways   \n",
       "2         Single   Rarely     Evening    Attend entertainment events   \n",
       "3         Single  Monthly     Morning  Travel to and fro from office   \n",
       "4         Single   Rarely   Afternoon  Travel to and fro from office   \n",
       "\n",
       "  Affordable Driver_well_equipped_with_tecnology         Payment_mode  \\\n",
       "0        Yes                            Disagree  Traditional ( Cash)   \n",
       "1        Yes                            Disagree                  UPI   \n",
       "2         No                               Agree                  UPI   \n",
       "3         No                               Agree           Ola wallet   \n",
       "4         No                               Agree                  UPI   \n",
       "\n",
       "  Service_preference App_operation Hygienic Offers_during_festivals  \\\n",
       "0                All     Difficult      Yes                     Yes   \n",
       "1                All          Easy       No                     Yes   \n",
       "2                All          Easy      Yes                     Yes   \n",
       "3                All          Easy       No                     Yes   \n",
       "4                All          Easy      NaN                     Yes   \n",
       "\n",
       "  Health_insurance Any_bad_experience     Cleanliness  \\\n",
       "0              Yes                 No  Very important   \n",
       "1              Yes                 No  Very important   \n",
       "2               No               Once  Very important   \n",
       "3              Yes                 No  Very important   \n",
       "4              NaN               Once  Very important   \n",
       "\n",
       "  Safety_Security_features Driver_polite  \n",
       "0                      All           Yes  \n",
       "1             GPS Tracking            No  \n",
       "2             GPS Tracking           Yes  \n",
       "3                      All           Yes  \n",
       "4                      All           NaN  "
      ]
     },
     "execution_count": 6,
     "metadata": {},
     "output_type": "execute_result"
    }
   ],
   "source": [
    "new.head()"
   ]
  },
  {
   "cell_type": "code",
   "execution_count": 7,
   "id": "65fc5cb6",
   "metadata": {},
   "outputs": [],
   "source": [
    "for column in['Affordable','Driver_well_equipped_with_tecnology','App_operation','Hygienic',\n",
    "              'Offers_during_festivals','Health_insurance','Driver_polite','Payment_mode',\n",
    "              'Service_preference','Cleanliness','Safety_Security_features','Any_bad_experience']:\n",
    "    new[column].fillna(new[column].mode()[0],inplace=True)"
   ]
  },
  {
   "cell_type": "code",
   "execution_count": 8,
   "id": "d9b353a6",
   "metadata": {},
   "outputs": [
    {
     "data": {
      "text/plain": [
       "Timestamp                              0\n",
       "Email                                  0\n",
       " Age Group                             0\n",
       "Gender                                 0\n",
       "Marital_status                         0\n",
       "Usage                                  0\n",
       "Time_period                            0\n",
       "Purpose                                0\n",
       "Affordable                             0\n",
       "Driver_well_equipped_with_tecnology    0\n",
       "Payment_mode                           0\n",
       "Service_preference                     0\n",
       "App_operation                          0\n",
       "Hygienic                               0\n",
       "Offers_during_festivals                0\n",
       "Health_insurance                       0\n",
       "Any_bad_experience                     0\n",
       "Cleanliness                            0\n",
       "Safety_Security_features               0\n",
       "Driver_polite                          0\n",
       "dtype: int64"
      ]
     },
     "execution_count": 8,
     "metadata": {},
     "output_type": "execute_result"
    }
   ],
   "source": [
    "new.isna().sum()"
   ]
  },
  {
   "cell_type": "code",
   "execution_count": 9,
   "id": "383d0c49",
   "metadata": {},
   "outputs": [
    {
     "data": {
      "text/plain": [
       "Male      187\n",
       "Female    109\n",
       "Name: Gender, dtype: int64"
      ]
     },
     "execution_count": 9,
     "metadata": {},
     "output_type": "execute_result"
    }
   ],
   "source": [
    "new.Gender.value_counts()"
   ]
  },
  {
   "cell_type": "code",
   "execution_count": 10,
   "id": "101424ff",
   "metadata": {},
   "outputs": [
    {
     "data": {
      "text/plain": [
       "Single     270\n",
       "Married     26\n",
       "Name: Marital_status, dtype: int64"
      ]
     },
     "execution_count": 10,
     "metadata": {},
     "output_type": "execute_result"
    }
   ],
   "source": [
    "new.Marital_status.value_counts()"
   ]
  },
  {
   "cell_type": "code",
   "execution_count": 11,
   "id": "30566de1",
   "metadata": {},
   "outputs": [
    {
     "data": {
      "text/plain": [
       "Daily      159\n",
       "Rarely      82\n",
       "Monthly     55\n",
       "Name: Usage, dtype: int64"
      ]
     },
     "execution_count": 11,
     "metadata": {},
     "output_type": "execute_result"
    }
   ],
   "source": [
    "new.Usage.value_counts()"
   ]
  },
  {
   "cell_type": "code",
   "execution_count": 12,
   "id": "08be63c2",
   "metadata": {},
   "outputs": [
    {
     "data": {
      "text/plain": [
       "Easy         268\n",
       "Difficult     28\n",
       "Name: App_operation, dtype: int64"
      ]
     },
     "execution_count": 12,
     "metadata": {},
     "output_type": "execute_result"
    }
   ],
   "source": [
    "new.App_operation.value_counts()"
   ]
  },
  {
   "cell_type": "code",
   "execution_count": 13,
   "id": "c91feff5",
   "metadata": {},
   "outputs": [
    {
     "data": {
      "text/plain": [
       "UPI                    180\n",
       "Traditional ( Cash)     83\n",
       "Ola wallet              33\n",
       "Name: Payment_mode, dtype: int64"
      ]
     },
     "execution_count": 13,
     "metadata": {},
     "output_type": "execute_result"
    }
   ],
   "source": [
    "new.Payment_mode.value_counts()"
   ]
  },
  {
   "cell_type": "code",
   "execution_count": 14,
   "id": "b22a98ca",
   "metadata": {},
   "outputs": [
    {
     "data": {
      "text/plain": [
       "All                                        196\n",
       "Affordable_prices                           44\n",
       "Safety_security                             34\n",
       "Quick reaching time , Quick pickup time     22\n",
       "Name: Service_preference, dtype: int64"
      ]
     },
     "execution_count": 14,
     "metadata": {},
     "output_type": "execute_result"
    }
   ],
   "source": [
    "new.Service_preference.value_counts()"
   ]
  },
  {
   "cell_type": "code",
   "execution_count": 15,
   "id": "4670698b",
   "metadata": {},
   "outputs": [
    {
     "data": {
      "text/plain": [
       "Attend entertainment events      124\n",
       "Travel to and fro from office     98\n",
       "Airport / Railways                74\n",
       "Name: Purpose, dtype: int64"
      ]
     },
     "execution_count": 15,
     "metadata": {},
     "output_type": "execute_result"
    }
   ],
   "source": [
    "new.Purpose.value_counts()"
   ]
  },
  {
   "cell_type": "code",
   "execution_count": 16,
   "id": "b5f77925",
   "metadata": {},
   "outputs": [
    {
     "data": {
      "text/plain": [
       "Yes    165\n",
       "No     131\n",
       "Name: Affordable, dtype: int64"
      ]
     },
     "execution_count": 16,
     "metadata": {},
     "output_type": "execute_result"
    }
   ],
   "source": [
    "new.Affordable.value_counts()"
   ]
  },
  {
   "cell_type": "code",
   "execution_count": 17,
   "id": "33d91aee",
   "metadata": {},
   "outputs": [
    {
     "data": {
      "text/plain": [
       "Yes    246\n",
       "No      50\n",
       "Name: Hygienic, dtype: int64"
      ]
     },
     "execution_count": 17,
     "metadata": {},
     "output_type": "execute_result"
    }
   ],
   "source": [
    "new.Hygienic.value_counts()"
   ]
  },
  {
   "cell_type": "code",
   "execution_count": 18,
   "id": "4c1ab4b8",
   "metadata": {},
   "outputs": [],
   "source": [
    "def customer(new):\n",
    "    if new['Affordable']=='Yes' and new['App_operation']=='Easy' and new['Driver_well_equipped_with_tecnology']=='Agree' and new['Hygienic']=='Yes':\n",
    "        return 'Satisfied'\n",
    "    else:\n",
    "        return 'Not satisfied'\n",
    "        "
   ]
  },
  {
   "cell_type": "code",
   "execution_count": 19,
   "id": "db293e00",
   "metadata": {},
   "outputs": [],
   "source": [
    "new['Customer_satisfaction']=new.apply(lambda x:customer(x),axis=1)"
   ]
  },
  {
   "cell_type": "code",
   "execution_count": 20,
   "id": "bdc1b343",
   "metadata": {
    "scrolled": true
   },
   "outputs": [
    {
     "data": {
      "text/plain": [
       "Not satisfied    169\n",
       "Satisfied        127\n",
       "Name: Customer_satisfaction, dtype: int64"
      ]
     },
     "execution_count": 20,
     "metadata": {},
     "output_type": "execute_result"
    }
   ],
   "source": [
    "new.Customer_satisfaction.value_counts()"
   ]
  },
  {
   "cell_type": "markdown",
   "id": "f2e27fc0",
   "metadata": {},
   "source": [
    "# 1. Hypothesis"
   ]
  },
  {
   "cell_type": "markdown",
   "id": "168f6ab7",
   "metadata": {},
   "source": [
    "#### H0: There is no relationship between Gender and Customer_satisfaction"
   ]
  },
  {
   "cell_type": "markdown",
   "id": "d7cfbf7d",
   "metadata": {},
   "source": [
    "#### vs"
   ]
  },
  {
   "cell_type": "markdown",
   "id": "c17fa2b6",
   "metadata": {},
   "source": [
    "#### H1: There is relationship between Gender and Customer_satisfaction"
   ]
  },
  {
   "cell_type": "markdown",
   "id": "6d05f825",
   "metadata": {},
   "source": [
    "##### Alpha=0.05"
   ]
  },
  {
   "cell_type": "code",
   "execution_count": 21,
   "id": "106dac5f",
   "metadata": {},
   "outputs": [
    {
     "data": {
      "text/html": [
       "<div>\n",
       "<style scoped>\n",
       "    .dataframe tbody tr th:only-of-type {\n",
       "        vertical-align: middle;\n",
       "    }\n",
       "\n",
       "    .dataframe tbody tr th {\n",
       "        vertical-align: top;\n",
       "    }\n",
       "\n",
       "    .dataframe thead th {\n",
       "        text-align: right;\n",
       "    }\n",
       "</style>\n",
       "<table border=\"1\" class=\"dataframe\">\n",
       "  <thead>\n",
       "    <tr style=\"text-align: right;\">\n",
       "      <th></th>\n",
       "      <th>Chi-square test</th>\n",
       "      <th>results</th>\n",
       "    </tr>\n",
       "  </thead>\n",
       "  <tbody>\n",
       "    <tr>\n",
       "      <th>0</th>\n",
       "      <td>Pearson Chi-square ( 1.0) =</td>\n",
       "      <td>8.8714</td>\n",
       "    </tr>\n",
       "    <tr>\n",
       "      <th>1</th>\n",
       "      <td>p-value =</td>\n",
       "      <td>0.0029</td>\n",
       "    </tr>\n",
       "    <tr>\n",
       "      <th>2</th>\n",
       "      <td>Cramer's phi =</td>\n",
       "      <td>0.1731</td>\n",
       "    </tr>\n",
       "  </tbody>\n",
       "</table>\n",
       "</div>"
      ],
      "text/plain": [
       "                Chi-square test  results\n",
       "0  Pearson Chi-square ( 1.0) =    8.8714\n",
       "1                    p-value =    0.0029\n",
       "2               Cramer's phi =    0.1731"
      ]
     },
     "execution_count": 21,
     "metadata": {},
     "output_type": "execute_result"
    }
   ],
   "source": [
    "import researchpy as rp\n",
    "table_1 ,result_1=rp.crosstab(new['Gender'],new['Customer_satisfaction'],test='chi-square')\n",
    "result_1"
   ]
  },
  {
   "cell_type": "markdown",
   "id": "5d03bfab",
   "metadata": {},
   "source": [
    "##### pvalue=0.0029"
   ]
  },
  {
   "cell_type": "markdown",
   "id": "653fdcb3",
   "metadata": {},
   "source": [
    "#### Hence we reject H0,there is relationship between gender and customer_satisfaction"
   ]
  },
  {
   "cell_type": "code",
   "execution_count": 22,
   "id": "5d21bfb8",
   "metadata": {},
   "outputs": [
    {
     "data": {
      "text/html": [
       "<div>\n",
       "<style scoped>\n",
       "    .dataframe tbody tr th:only-of-type {\n",
       "        vertical-align: middle;\n",
       "    }\n",
       "\n",
       "    .dataframe tbody tr th {\n",
       "        vertical-align: top;\n",
       "    }\n",
       "\n",
       "    .dataframe thead th {\n",
       "        text-align: right;\n",
       "    }\n",
       "</style>\n",
       "<table border=\"1\" class=\"dataframe\">\n",
       "  <thead>\n",
       "    <tr style=\"text-align: right;\">\n",
       "      <th>Customer_satisfaction</th>\n",
       "      <th>Not satisfied</th>\n",
       "      <th>Satisfied</th>\n",
       "    </tr>\n",
       "    <tr>\n",
       "      <th>Gender</th>\n",
       "      <th></th>\n",
       "      <th></th>\n",
       "    </tr>\n",
       "  </thead>\n",
       "  <tbody>\n",
       "    <tr>\n",
       "      <th>Female</th>\n",
       "      <td>0.295858</td>\n",
       "      <td>0.464567</td>\n",
       "    </tr>\n",
       "    <tr>\n",
       "      <th>Male</th>\n",
       "      <td>0.704142</td>\n",
       "      <td>0.535433</td>\n",
       "    </tr>\n",
       "  </tbody>\n",
       "</table>\n",
       "</div>"
      ],
      "text/plain": [
       "Customer_satisfaction  Not satisfied  Satisfied\n",
       "Gender                                         \n",
       "Female                      0.295858   0.464567\n",
       "Male                        0.704142   0.535433"
      ]
     },
     "execution_count": 22,
     "metadata": {},
     "output_type": "execute_result"
    }
   ],
   "source": [
    "table_1=pd.crosstab(new['Gender'],new['Customer_satisfaction'],normalize='columns')\n",
    "table_1"
   ]
  },
  {
   "cell_type": "code",
   "execution_count": 23,
   "id": "6208c25f",
   "metadata": {},
   "outputs": [
    {
     "data": {
      "text/plain": [
       "<AxesSubplot:xlabel='Gender'>"
      ]
     },
     "execution_count": 23,
     "metadata": {},
     "output_type": "execute_result"
    },
    {
     "data": {
      "image/png": "[encoded data removed]",
      "text/plain": [
       "<Figure size 432x288 with 1 Axes>"
      ]
     },
     "metadata": {
      "needs_background": "light"
     },
     "output_type": "display_data"
    }
   ],
   "source": [
    "table_1.plot(kind='bar',legend=False)"
   ]
  },
  {
   "cell_type": "markdown",
   "id": "0b886c00",
   "metadata": {},
   "source": [
    "# 2."
   ]
  },
  {
   "cell_type": "markdown",
   "id": "38a973d3",
   "metadata": {},
   "source": [
    "#### H0:There is no relationship between Marital_status and Customer_satisfaction"
   ]
  },
  {
   "cell_type": "markdown",
   "id": "283c2102",
   "metadata": {},
   "source": [
    "##### vs"
   ]
  },
  {
   "cell_type": "markdown",
   "id": "d8e116e9",
   "metadata": {},
   "source": [
    "#### H1:There is relationship between Marital_status and Customer_satisfaction"
   ]
  },
  {
   "cell_type": "markdown",
   "id": "7991c5d2",
   "metadata": {},
   "source": [
    "##### Alpha=0.05"
   ]
  },
  {
   "cell_type": "code",
   "execution_count": 24,
   "id": "ba4f0abb",
   "metadata": {},
   "outputs": [
    {
     "data": {
      "text/html": [
       "<div>\n",
       "<style scoped>\n",
       "    .dataframe tbody tr th:only-of-type {\n",
       "        vertical-align: middle;\n",
       "    }\n",
       "\n",
       "    .dataframe tbody tr th {\n",
       "        vertical-align: top;\n",
       "    }\n",
       "\n",
       "    .dataframe thead tr th {\n",
       "        text-align: left;\n",
       "    }\n",
       "\n",
       "    .dataframe thead tr:last-of-type th {\n",
       "        text-align: right;\n",
       "    }\n",
       "</style>\n",
       "<table border=\"1\" class=\"dataframe\">\n",
       "  <thead>\n",
       "    <tr>\n",
       "      <th></th>\n",
       "      <th colspan=\"3\" halign=\"left\">Customer_satisfaction</th>\n",
       "    </tr>\n",
       "    <tr>\n",
       "      <th>Customer_satisfaction</th>\n",
       "      <th>Not satisfied</th>\n",
       "      <th>Satisfied</th>\n",
       "      <th>All</th>\n",
       "    </tr>\n",
       "    <tr>\n",
       "      <th>Marital_status</th>\n",
       "      <th></th>\n",
       "      <th></th>\n",
       "      <th></th>\n",
       "    </tr>\n",
       "  </thead>\n",
       "  <tbody>\n",
       "    <tr>\n",
       "      <th>Married</th>\n",
       "      <td>15</td>\n",
       "      <td>11</td>\n",
       "      <td>26</td>\n",
       "    </tr>\n",
       "    <tr>\n",
       "      <th>Single</th>\n",
       "      <td>154</td>\n",
       "      <td>116</td>\n",
       "      <td>270</td>\n",
       "    </tr>\n",
       "    <tr>\n",
       "      <th>All</th>\n",
       "      <td>169</td>\n",
       "      <td>127</td>\n",
       "      <td>296</td>\n",
       "    </tr>\n",
       "  </tbody>\n",
       "</table>\n",
       "</div>"
      ],
      "text/plain": [
       "                      Customer_satisfaction               \n",
       "Customer_satisfaction         Not satisfied Satisfied  All\n",
       "Marital_status                                            \n",
       "Married                                  15        11   26\n",
       "Single                                  154       116  270\n",
       "All                                     169       127  296"
      ]
     },
     "execution_count": 24,
     "metadata": {},
     "output_type": "execute_result"
    }
   ],
   "source": [
    "table_2 ,result_2 =rp.crosstab(new['Marital_status'],new['Customer_satisfaction'],test='chi-square')\n",
    "table_2"
   ]
  },
  {
   "cell_type": "code",
   "execution_count": 25,
   "id": "72590604",
   "metadata": {},
   "outputs": [
    {
     "data": {
      "text/html": [
       "<div>\n",
       "<style scoped>\n",
       "    .dataframe tbody tr th:only-of-type {\n",
       "        vertical-align: middle;\n",
       "    }\n",
       "\n",
       "    .dataframe tbody tr th {\n",
       "        vertical-align: top;\n",
       "    }\n",
       "\n",
       "    .dataframe thead th {\n",
       "        text-align: right;\n",
       "    }\n",
       "</style>\n",
       "<table border=\"1\" class=\"dataframe\">\n",
       "  <thead>\n",
       "    <tr style=\"text-align: right;\">\n",
       "      <th>Customer_satisfaction</th>\n",
       "      <th>Not satisfied</th>\n",
       "      <th>Satisfied</th>\n",
       "    </tr>\n",
       "    <tr>\n",
       "      <th>Marital_status</th>\n",
       "      <th></th>\n",
       "      <th></th>\n",
       "    </tr>\n",
       "  </thead>\n",
       "  <tbody>\n",
       "    <tr>\n",
       "      <th>Married</th>\n",
       "      <td>0.088757</td>\n",
       "      <td>0.086614</td>\n",
       "    </tr>\n",
       "    <tr>\n",
       "      <th>Single</th>\n",
       "      <td>0.911243</td>\n",
       "      <td>0.913386</td>\n",
       "    </tr>\n",
       "  </tbody>\n",
       "</table>\n",
       "</div>"
      ],
      "text/plain": [
       "Customer_satisfaction  Not satisfied  Satisfied\n",
       "Marital_status                                 \n",
       "Married                     0.088757   0.086614\n",
       "Single                      0.911243   0.913386"
      ]
     },
     "execution_count": 25,
     "metadata": {},
     "output_type": "execute_result"
    }
   ],
   "source": [
    "table_2 =pd.crosstab(new['Marital_status'],new['Customer_satisfaction'],normalize='columns')\n",
    "table_2"
   ]
  },
  {
   "cell_type": "code",
   "execution_count": 26,
   "id": "cc420723",
   "metadata": {},
   "outputs": [
    {
     "data": {
      "text/html": [
       "<div>\n",
       "<style scoped>\n",
       "    .dataframe tbody tr th:only-of-type {\n",
       "        vertical-align: middle;\n",
       "    }\n",
       "\n",
       "    .dataframe tbody tr th {\n",
       "        vertical-align: top;\n",
       "    }\n",
       "\n",
       "    .dataframe thead th {\n",
       "        text-align: right;\n",
       "    }\n",
       "</style>\n",
       "<table border=\"1\" class=\"dataframe\">\n",
       "  <thead>\n",
       "    <tr style=\"text-align: right;\">\n",
       "      <th></th>\n",
       "      <th>Chi-square test</th>\n",
       "      <th>results</th>\n",
       "    </tr>\n",
       "  </thead>\n",
       "  <tbody>\n",
       "    <tr>\n",
       "      <th>0</th>\n",
       "      <td>Pearson Chi-square ( 1.0) =</td>\n",
       "      <td>0.0042</td>\n",
       "    </tr>\n",
       "    <tr>\n",
       "      <th>1</th>\n",
       "      <td>p-value =</td>\n",
       "      <td>0.9486</td>\n",
       "    </tr>\n",
       "    <tr>\n",
       "      <th>2</th>\n",
       "      <td>Cramer's phi =</td>\n",
       "      <td>0.0037</td>\n",
       "    </tr>\n",
       "  </tbody>\n",
       "</table>\n",
       "</div>"
      ],
      "text/plain": [
       "                Chi-square test  results\n",
       "0  Pearson Chi-square ( 1.0) =    0.0042\n",
       "1                    p-value =    0.9486\n",
       "2               Cramer's phi =    0.0037"
      ]
     },
     "execution_count": 26,
     "metadata": {},
     "output_type": "execute_result"
    }
   ],
   "source": [
    "result_2"
   ]
  },
  {
   "cell_type": "markdown",
   "id": "7a05a7d1",
   "metadata": {},
   "source": [
    "##### pvalue = 0.9486"
   ]
  },
  {
   "cell_type": "markdown",
   "id": "47459e4c",
   "metadata": {},
   "source": [
    "#### Hence we do not reject H0,and there is no relationship between marital_status and customer_satisfaction"
   ]
  },
  {
   "cell_type": "code",
   "execution_count": 27,
   "id": "d34c7f14",
   "metadata": {},
   "outputs": [
    {
     "data": {
      "text/plain": [
       "<AxesSubplot:xlabel='Marital_status'>"
      ]
     },
     "execution_count": 27,
     "metadata": {},
     "output_type": "execute_result"
    },
    {
     "data": {
      "image/png": "[encoded data removed]",
      "text/plain": [
       "<Figure size 432x288 with 1 Axes>"
      ]
     },
     "metadata": {
      "needs_background": "light"
     },
     "output_type": "display_data"
    }
   ],
   "source": [
    "table_2.plot(kind='bar',legend=False)"
   ]
  },
  {
   "cell_type": "markdown",
   "id": "49d3feb6",
   "metadata": {},
   "source": [
    "# 3."
   ]
  },
  {
   "cell_type": "markdown",
   "id": "2b4b058c",
   "metadata": {},
   "source": [
    "#### H0:There is no relationship between Usage and Customer_satisfaction"
   ]
  },
  {
   "cell_type": "markdown",
   "id": "e0673924",
   "metadata": {},
   "source": [
    "##### vs"
   ]
  },
  {
   "cell_type": "markdown",
   "id": "7fbf8017",
   "metadata": {},
   "source": [
    "#### H1:There is relationship between Usage and Customer_satisfaction"
   ]
  },
  {
   "cell_type": "markdown",
   "id": "f2ceb4a7",
   "metadata": {},
   "source": [
    "#### Alpha=0.05"
   ]
  },
  {
   "cell_type": "code",
   "execution_count": 28,
   "id": "445f4343",
   "metadata": {},
   "outputs": [
    {
     "data": {
      "text/html": [
       "<div>\n",
       "<style scoped>\n",
       "    .dataframe tbody tr th:only-of-type {\n",
       "        vertical-align: middle;\n",
       "    }\n",
       "\n",
       "    .dataframe tbody tr th {\n",
       "        vertical-align: top;\n",
       "    }\n",
       "\n",
       "    .dataframe thead tr th {\n",
       "        text-align: left;\n",
       "    }\n",
       "\n",
       "    .dataframe thead tr:last-of-type th {\n",
       "        text-align: right;\n",
       "    }\n",
       "</style>\n",
       "<table border=\"1\" class=\"dataframe\">\n",
       "  <thead>\n",
       "    <tr>\n",
       "      <th></th>\n",
       "      <th colspan=\"3\" halign=\"left\">Customer_satisfaction</th>\n",
       "    </tr>\n",
       "    <tr>\n",
       "      <th>Customer_satisfaction</th>\n",
       "      <th>Not satisfied</th>\n",
       "      <th>Satisfied</th>\n",
       "      <th>All</th>\n",
       "    </tr>\n",
       "    <tr>\n",
       "      <th>Usage</th>\n",
       "      <th></th>\n",
       "      <th></th>\n",
       "      <th></th>\n",
       "    </tr>\n",
       "  </thead>\n",
       "  <tbody>\n",
       "    <tr>\n",
       "      <th>Daily</th>\n",
       "      <td>102</td>\n",
       "      <td>57</td>\n",
       "      <td>159</td>\n",
       "    </tr>\n",
       "    <tr>\n",
       "      <th>Monthly</th>\n",
       "      <td>29</td>\n",
       "      <td>26</td>\n",
       "      <td>55</td>\n",
       "    </tr>\n",
       "    <tr>\n",
       "      <th>Rarely</th>\n",
       "      <td>38</td>\n",
       "      <td>44</td>\n",
       "      <td>82</td>\n",
       "    </tr>\n",
       "    <tr>\n",
       "      <th>All</th>\n",
       "      <td>169</td>\n",
       "      <td>127</td>\n",
       "      <td>296</td>\n",
       "    </tr>\n",
       "  </tbody>\n",
       "</table>\n",
       "</div>"
      ],
      "text/plain": [
       "                      Customer_satisfaction               \n",
       "Customer_satisfaction         Not satisfied Satisfied  All\n",
       "Usage                                                     \n",
       "Daily                                   102        57  159\n",
       "Monthly                                  29        26   55\n",
       "Rarely                                   38        44   82\n",
       "All                                     169       127  296"
      ]
     },
     "execution_count": 28,
     "metadata": {},
     "output_type": "execute_result"
    }
   ],
   "source": [
    "table_3 ,result_3=rp.crosstab(new['Usage'],new['Customer_satisfaction'],test='chi-square')\n",
    "table_3"
   ]
  },
  {
   "cell_type": "code",
   "execution_count": 29,
   "id": "dc81290b",
   "metadata": {},
   "outputs": [
    {
     "data": {
      "text/html": [
       "<div>\n",
       "<style scoped>\n",
       "    .dataframe tbody tr th:only-of-type {\n",
       "        vertical-align: middle;\n",
       "    }\n",
       "\n",
       "    .dataframe tbody tr th {\n",
       "        vertical-align: top;\n",
       "    }\n",
       "\n",
       "    .dataframe thead th {\n",
       "        text-align: right;\n",
       "    }\n",
       "</style>\n",
       "<table border=\"1\" class=\"dataframe\">\n",
       "  <thead>\n",
       "    <tr style=\"text-align: right;\">\n",
       "      <th>Customer_satisfaction</th>\n",
       "      <th>Not satisfied</th>\n",
       "      <th>Satisfied</th>\n",
       "    </tr>\n",
       "    <tr>\n",
       "      <th>Usage</th>\n",
       "      <th></th>\n",
       "      <th></th>\n",
       "    </tr>\n",
       "  </thead>\n",
       "  <tbody>\n",
       "    <tr>\n",
       "      <th>Daily</th>\n",
       "      <td>0.603550</td>\n",
       "      <td>0.448819</td>\n",
       "    </tr>\n",
       "    <tr>\n",
       "      <th>Monthly</th>\n",
       "      <td>0.171598</td>\n",
       "      <td>0.204724</td>\n",
       "    </tr>\n",
       "    <tr>\n",
       "      <th>Rarely</th>\n",
       "      <td>0.224852</td>\n",
       "      <td>0.346457</td>\n",
       "    </tr>\n",
       "  </tbody>\n",
       "</table>\n",
       "</div>"
      ],
      "text/plain": [
       "Customer_satisfaction  Not satisfied  Satisfied\n",
       "Usage                                          \n",
       "Daily                       0.603550   0.448819\n",
       "Monthly                     0.171598   0.204724\n",
       "Rarely                      0.224852   0.346457"
      ]
     },
     "execution_count": 29,
     "metadata": {},
     "output_type": "execute_result"
    }
   ],
   "source": [
    "table_3 = pd.crosstab(new['Usage'],new['Customer_satisfaction'],normalize='columns')\n",
    "table_3"
   ]
  },
  {
   "cell_type": "code",
   "execution_count": 30,
   "id": "769eb935",
   "metadata": {},
   "outputs": [
    {
     "data": {
      "text/html": [
       "<div>\n",
       "<style scoped>\n",
       "    .dataframe tbody tr th:only-of-type {\n",
       "        vertical-align: middle;\n",
       "    }\n",
       "\n",
       "    .dataframe tbody tr th {\n",
       "        vertical-align: top;\n",
       "    }\n",
       "\n",
       "    .dataframe thead th {\n",
       "        text-align: right;\n",
       "    }\n",
       "</style>\n",
       "<table border=\"1\" class=\"dataframe\">\n",
       "  <thead>\n",
       "    <tr style=\"text-align: right;\">\n",
       "      <th></th>\n",
       "      <th>Chi-square test</th>\n",
       "      <th>results</th>\n",
       "    </tr>\n",
       "  </thead>\n",
       "  <tbody>\n",
       "    <tr>\n",
       "      <th>0</th>\n",
       "      <td>Pearson Chi-square ( 2.0) =</td>\n",
       "      <td>7.5307</td>\n",
       "    </tr>\n",
       "    <tr>\n",
       "      <th>1</th>\n",
       "      <td>p-value =</td>\n",
       "      <td>0.0232</td>\n",
       "    </tr>\n",
       "    <tr>\n",
       "      <th>2</th>\n",
       "      <td>Cramer's V =</td>\n",
       "      <td>0.1595</td>\n",
       "    </tr>\n",
       "  </tbody>\n",
       "</table>\n",
       "</div>"
      ],
      "text/plain": [
       "                Chi-square test  results\n",
       "0  Pearson Chi-square ( 2.0) =    7.5307\n",
       "1                    p-value =    0.0232\n",
       "2                 Cramer's V =    0.1595"
      ]
     },
     "execution_count": 30,
     "metadata": {},
     "output_type": "execute_result"
    }
   ],
   "source": [
    "result_3"
   ]
  },
  {
   "cell_type": "markdown",
   "id": "88cae2d4",
   "metadata": {},
   "source": [
    "##### pvalue =0.0232"
   ]
  },
  {
   "cell_type": "markdown",
   "id": "2555e71c",
   "metadata": {},
   "source": [
    "#### Hence we reject H0,there is relationship between usage and customer_satisfaction"
   ]
  },
  {
   "cell_type": "code",
   "execution_count": 31,
   "id": "07038079",
   "metadata": {},
   "outputs": [
    {
     "data": {
      "text/plain": [
       "<AxesSubplot:xlabel='Usage'>"
      ]
     },
     "execution_count": 31,
     "metadata": {},
     "output_type": "execute_result"
    },
    {
     "data": {
      "image/png": "[encoded data removed]",
      "text/plain": [
       "<Figure size 432x288 with 1 Axes>"
      ]
     },
     "metadata": {
      "needs_background": "light"
     },
     "output_type": "display_data"
    }
   ],
   "source": [
    "table_3.plot(kind='bar',legend=False)"
   ]
  },
  {
   "cell_type": "markdown",
   "id": "867d370b",
   "metadata": {},
   "source": [
    "# 4."
   ]
  },
  {
   "cell_type": "markdown",
   "id": "6eeae582",
   "metadata": {},
   "source": [
    "#### H0:There is no relationship between Time_period and customer_satisfaction"
   ]
  },
  {
   "cell_type": "markdown",
   "id": "e9073c93",
   "metadata": {},
   "source": [
    "#### vs"
   ]
  },
  {
   "cell_type": "markdown",
   "id": "0479a54b",
   "metadata": {},
   "source": [
    "#### H1:There is relationship between Time_period and customer_satisfaction"
   ]
  },
  {
   "cell_type": "code",
   "execution_count": 32,
   "id": "bb438c8b",
   "metadata": {},
   "outputs": [
    {
     "data": {
      "text/html": [
       "<div>\n",
       "<style scoped>\n",
       "    .dataframe tbody tr th:only-of-type {\n",
       "        vertical-align: middle;\n",
       "    }\n",
       "\n",
       "    .dataframe tbody tr th {\n",
       "        vertical-align: top;\n",
       "    }\n",
       "\n",
       "    .dataframe thead tr th {\n",
       "        text-align: left;\n",
       "    }\n",
       "\n",
       "    .dataframe thead tr:last-of-type th {\n",
       "        text-align: right;\n",
       "    }\n",
       "</style>\n",
       "<table border=\"1\" class=\"dataframe\">\n",
       "  <thead>\n",
       "    <tr>\n",
       "      <th></th>\n",
       "      <th colspan=\"3\" halign=\"left\">Customer_satisfaction</th>\n",
       "    </tr>\n",
       "    <tr>\n",
       "      <th>Customer_satisfaction</th>\n",
       "      <th>Not satisfied</th>\n",
       "      <th>Satisfied</th>\n",
       "      <th>All</th>\n",
       "    </tr>\n",
       "    <tr>\n",
       "      <th>Time_period</th>\n",
       "      <th></th>\n",
       "      <th></th>\n",
       "      <th></th>\n",
       "    </tr>\n",
       "  </thead>\n",
       "  <tbody>\n",
       "    <tr>\n",
       "      <th>Afternoon</th>\n",
       "      <td>36</td>\n",
       "      <td>45</td>\n",
       "      <td>81</td>\n",
       "    </tr>\n",
       "    <tr>\n",
       "      <th>Evening</th>\n",
       "      <td>81</td>\n",
       "      <td>56</td>\n",
       "      <td>137</td>\n",
       "    </tr>\n",
       "    <tr>\n",
       "      <th>Morning</th>\n",
       "      <td>52</td>\n",
       "      <td>26</td>\n",
       "      <td>78</td>\n",
       "    </tr>\n",
       "    <tr>\n",
       "      <th>All</th>\n",
       "      <td>169</td>\n",
       "      <td>127</td>\n",
       "      <td>296</td>\n",
       "    </tr>\n",
       "  </tbody>\n",
       "</table>\n",
       "</div>"
      ],
      "text/plain": [
       "                      Customer_satisfaction               \n",
       "Customer_satisfaction         Not satisfied Satisfied  All\n",
       "Time_period                                               \n",
       "Afternoon                                36        45   81\n",
       "Evening                                  81        56  137\n",
       "Morning                                  52        26   78\n",
       "All                                     169       127  296"
      ]
     },
     "execution_count": 32,
     "metadata": {},
     "output_type": "execute_result"
    }
   ],
   "source": [
    "table_4 ,result_4=rp.crosstab(new['Time_period'],new['Customer_satisfaction'],test='chi-square')\n",
    "table_4"
   ]
  },
  {
   "cell_type": "code",
   "execution_count": 33,
   "id": "34dffa9c",
   "metadata": {},
   "outputs": [
    {
     "data": {
      "text/html": [
       "<div>\n",
       "<style scoped>\n",
       "    .dataframe tbody tr th:only-of-type {\n",
       "        vertical-align: middle;\n",
       "    }\n",
       "\n",
       "    .dataframe tbody tr th {\n",
       "        vertical-align: top;\n",
       "    }\n",
       "\n",
       "    .dataframe thead th {\n",
       "        text-align: right;\n",
       "    }\n",
       "</style>\n",
       "<table border=\"1\" class=\"dataframe\">\n",
       "  <thead>\n",
       "    <tr style=\"text-align: right;\">\n",
       "      <th>Customer_satisfaction</th>\n",
       "      <th>Not satisfied</th>\n",
       "      <th>Satisfied</th>\n",
       "    </tr>\n",
       "    <tr>\n",
       "      <th>Time_period</th>\n",
       "      <th></th>\n",
       "      <th></th>\n",
       "    </tr>\n",
       "  </thead>\n",
       "  <tbody>\n",
       "    <tr>\n",
       "      <th>Afternoon</th>\n",
       "      <td>0.213018</td>\n",
       "      <td>0.354331</td>\n",
       "    </tr>\n",
       "    <tr>\n",
       "      <th>Evening</th>\n",
       "      <td>0.479290</td>\n",
       "      <td>0.440945</td>\n",
       "    </tr>\n",
       "    <tr>\n",
       "      <th>Morning</th>\n",
       "      <td>0.307692</td>\n",
       "      <td>0.204724</td>\n",
       "    </tr>\n",
       "  </tbody>\n",
       "</table>\n",
       "</div>"
      ],
      "text/plain": [
       "Customer_satisfaction  Not satisfied  Satisfied\n",
       "Time_period                                    \n",
       "Afternoon                   0.213018   0.354331\n",
       "Evening                     0.479290   0.440945\n",
       "Morning                     0.307692   0.204724"
      ]
     },
     "execution_count": 33,
     "metadata": {},
     "output_type": "execute_result"
    }
   ],
   "source": [
    "table_4 = pd.crosstab(new['Time_period'],new['Customer_satisfaction'],normalize='columns')\n",
    "table_4"
   ]
  },
  {
   "cell_type": "code",
   "execution_count": 34,
   "id": "1f9c2893",
   "metadata": {},
   "outputs": [
    {
     "data": {
      "text/html": [
       "<div>\n",
       "<style scoped>\n",
       "    .dataframe tbody tr th:only-of-type {\n",
       "        vertical-align: middle;\n",
       "    }\n",
       "\n",
       "    .dataframe tbody tr th {\n",
       "        vertical-align: top;\n",
       "    }\n",
       "\n",
       "    .dataframe thead th {\n",
       "        text-align: right;\n",
       "    }\n",
       "</style>\n",
       "<table border=\"1\" class=\"dataframe\">\n",
       "  <thead>\n",
       "    <tr style=\"text-align: right;\">\n",
       "      <th></th>\n",
       "      <th>Chi-square test</th>\n",
       "      <th>results</th>\n",
       "    </tr>\n",
       "  </thead>\n",
       "  <tbody>\n",
       "    <tr>\n",
       "      <th>0</th>\n",
       "      <td>Pearson Chi-square ( 2.0) =</td>\n",
       "      <td>8.4392</td>\n",
       "    </tr>\n",
       "    <tr>\n",
       "      <th>1</th>\n",
       "      <td>p-value =</td>\n",
       "      <td>0.0147</td>\n",
       "    </tr>\n",
       "    <tr>\n",
       "      <th>2</th>\n",
       "      <td>Cramer's V =</td>\n",
       "      <td>0.1689</td>\n",
       "    </tr>\n",
       "  </tbody>\n",
       "</table>\n",
       "</div>"
      ],
      "text/plain": [
       "                Chi-square test  results\n",
       "0  Pearson Chi-square ( 2.0) =    8.4392\n",
       "1                    p-value =    0.0147\n",
       "2                 Cramer's V =    0.1689"
      ]
     },
     "execution_count": 34,
     "metadata": {},
     "output_type": "execute_result"
    }
   ],
   "source": [
    "result_4"
   ]
  },
  {
   "cell_type": "markdown",
   "id": "dba5dfa1",
   "metadata": {},
   "source": [
    "##### pvalue = 0.0147"
   ]
  },
  {
   "cell_type": "markdown",
   "id": "bcc087fc",
   "metadata": {},
   "source": [
    "#### We reject H0,hence there is relationship between time_period and customer_satisfaction"
   ]
  },
  {
   "cell_type": "code",
   "execution_count": 35,
   "id": "7ba77497",
   "metadata": {},
   "outputs": [
    {
     "data": {
      "text/plain": [
       "<AxesSubplot:xlabel='Time_period'>"
      ]
     },
     "execution_count": 35,
     "metadata": {},
     "output_type": "execute_result"
    },
    {
     "data": {
      "image/png": "[encoded data removed]",
      "text/plain": [
       "<Figure size 432x288 with 1 Axes>"
      ]
     },
     "metadata": {
      "needs_background": "light"
     },
     "output_type": "display_data"
    }
   ],
   "source": [
    "table_4.plot(kind='bar',legend=False)"
   ]
  },
  {
   "cell_type": "markdown",
   "id": "6a3f062c",
   "metadata": {},
   "source": [
    "# 5."
   ]
  },
  {
   "cell_type": "markdown",
   "id": "1b2d20a4",
   "metadata": {},
   "source": [
    "#### H0:There is no relationship between payment_mode and customer_satisfaction"
   ]
  },
  {
   "cell_type": "markdown",
   "id": "ca1c8ad0",
   "metadata": {},
   "source": [
    "#### vs"
   ]
  },
  {
   "cell_type": "markdown",
   "id": "0461ff1d",
   "metadata": {},
   "source": [
    "#### H1:There is relationship between payment_mode and customer_satisfaction"
   ]
  },
  {
   "cell_type": "code",
   "execution_count": 36,
   "id": "6bd5686e",
   "metadata": {},
   "outputs": [
    {
     "data": {
      "text/html": [
       "<div>\n",
       "<style scoped>\n",
       "    .dataframe tbody tr th:only-of-type {\n",
       "        vertical-align: middle;\n",
       "    }\n",
       "\n",
       "    .dataframe tbody tr th {\n",
       "        vertical-align: top;\n",
       "    }\n",
       "\n",
       "    .dataframe thead tr th {\n",
       "        text-align: left;\n",
       "    }\n",
       "\n",
       "    .dataframe thead tr:last-of-type th {\n",
       "        text-align: right;\n",
       "    }\n",
       "</style>\n",
       "<table border=\"1\" class=\"dataframe\">\n",
       "  <thead>\n",
       "    <tr>\n",
       "      <th></th>\n",
       "      <th colspan=\"3\" halign=\"left\">Customer_satisfaction</th>\n",
       "    </tr>\n",
       "    <tr>\n",
       "      <th>Customer_satisfaction</th>\n",
       "      <th>Not satisfied</th>\n",
       "      <th>Satisfied</th>\n",
       "      <th>All</th>\n",
       "    </tr>\n",
       "    <tr>\n",
       "      <th>Payment_mode</th>\n",
       "      <th></th>\n",
       "      <th></th>\n",
       "      <th></th>\n",
       "    </tr>\n",
       "  </thead>\n",
       "  <tbody>\n",
       "    <tr>\n",
       "      <th>Ola wallet</th>\n",
       "      <td>14</td>\n",
       "      <td>19</td>\n",
       "      <td>33</td>\n",
       "    </tr>\n",
       "    <tr>\n",
       "      <th>Traditional ( Cash)</th>\n",
       "      <td>40</td>\n",
       "      <td>43</td>\n",
       "      <td>83</td>\n",
       "    </tr>\n",
       "    <tr>\n",
       "      <th>UPI</th>\n",
       "      <td>115</td>\n",
       "      <td>65</td>\n",
       "      <td>180</td>\n",
       "    </tr>\n",
       "    <tr>\n",
       "      <th>All</th>\n",
       "      <td>169</td>\n",
       "      <td>127</td>\n",
       "      <td>296</td>\n",
       "    </tr>\n",
       "  </tbody>\n",
       "</table>\n",
       "</div>"
      ],
      "text/plain": [
       "                      Customer_satisfaction               \n",
       "Customer_satisfaction         Not satisfied Satisfied  All\n",
       "Payment_mode                                              \n",
       "Ola wallet                               14        19   33\n",
       "Traditional ( Cash)                      40        43   83\n",
       "UPI                                     115        65  180\n",
       "All                                     169       127  296"
      ]
     },
     "execution_count": 36,
     "metadata": {},
     "output_type": "execute_result"
    }
   ],
   "source": [
    "table_5 ,result_5=rp.crosstab(new['Payment_mode'],new['Customer_satisfaction'],test='chi-square')\n",
    "table_5"
   ]
  },
  {
   "cell_type": "code",
   "execution_count": 37,
   "id": "6934190e",
   "metadata": {},
   "outputs": [
    {
     "data": {
      "text/html": [
       "<div>\n",
       "<style scoped>\n",
       "    .dataframe tbody tr th:only-of-type {\n",
       "        vertical-align: middle;\n",
       "    }\n",
       "\n",
       "    .dataframe tbody tr th {\n",
       "        vertical-align: top;\n",
       "    }\n",
       "\n",
       "    .dataframe thead th {\n",
       "        text-align: right;\n",
       "    }\n",
       "</style>\n",
       "<table border=\"1\" class=\"dataframe\">\n",
       "  <thead>\n",
       "    <tr style=\"text-align: right;\">\n",
       "      <th>Customer_satisfaction</th>\n",
       "      <th>Not satisfied</th>\n",
       "      <th>Satisfied</th>\n",
       "    </tr>\n",
       "    <tr>\n",
       "      <th>Payment_mode</th>\n",
       "      <th></th>\n",
       "      <th></th>\n",
       "    </tr>\n",
       "  </thead>\n",
       "  <tbody>\n",
       "    <tr>\n",
       "      <th>Ola wallet</th>\n",
       "      <td>0.082840</td>\n",
       "      <td>0.149606</td>\n",
       "    </tr>\n",
       "    <tr>\n",
       "      <th>Traditional ( Cash)</th>\n",
       "      <td>0.236686</td>\n",
       "      <td>0.338583</td>\n",
       "    </tr>\n",
       "    <tr>\n",
       "      <th>UPI</th>\n",
       "      <td>0.680473</td>\n",
       "      <td>0.511811</td>\n",
       "    </tr>\n",
       "  </tbody>\n",
       "</table>\n",
       "</div>"
      ],
      "text/plain": [
       "Customer_satisfaction  Not satisfied  Satisfied\n",
       "Payment_mode                                   \n",
       "Ola wallet                  0.082840   0.149606\n",
       "Traditional ( Cash)         0.236686   0.338583\n",
       "UPI                         0.680473   0.511811"
      ]
     },
     "execution_count": 37,
     "metadata": {},
     "output_type": "execute_result"
    }
   ],
   "source": [
    "table_5 = pd.crosstab(new['Payment_mode'],new['Customer_satisfaction'],normalize='columns')\n",
    "table_5"
   ]
  },
  {
   "cell_type": "code",
   "execution_count": 38,
   "id": "35fa1310",
   "metadata": {},
   "outputs": [
    {
     "data": {
      "text/html": [
       "<div>\n",
       "<style scoped>\n",
       "    .dataframe tbody tr th:only-of-type {\n",
       "        vertical-align: middle;\n",
       "    }\n",
       "\n",
       "    .dataframe tbody tr th {\n",
       "        vertical-align: top;\n",
       "    }\n",
       "\n",
       "    .dataframe thead th {\n",
       "        text-align: right;\n",
       "    }\n",
       "</style>\n",
       "<table border=\"1\" class=\"dataframe\">\n",
       "  <thead>\n",
       "    <tr style=\"text-align: right;\">\n",
       "      <th></th>\n",
       "      <th>Chi-square test</th>\n",
       "      <th>results</th>\n",
       "    </tr>\n",
       "  </thead>\n",
       "  <tbody>\n",
       "    <tr>\n",
       "      <th>0</th>\n",
       "      <td>Pearson Chi-square ( 2.0) =</td>\n",
       "      <td>8.9762</td>\n",
       "    </tr>\n",
       "    <tr>\n",
       "      <th>1</th>\n",
       "      <td>p-value =</td>\n",
       "      <td>0.0112</td>\n",
       "    </tr>\n",
       "    <tr>\n",
       "      <th>2</th>\n",
       "      <td>Cramer's V =</td>\n",
       "      <td>0.1741</td>\n",
       "    </tr>\n",
       "  </tbody>\n",
       "</table>\n",
       "</div>"
      ],
      "text/plain": [
       "                Chi-square test  results\n",
       "0  Pearson Chi-square ( 2.0) =    8.9762\n",
       "1                    p-value =    0.0112\n",
       "2                 Cramer's V =    0.1741"
      ]
     },
     "execution_count": 38,
     "metadata": {},
     "output_type": "execute_result"
    }
   ],
   "source": [
    "result_5"
   ]
  },
  {
   "cell_type": "markdown",
   "id": "bb13c75e",
   "metadata": {},
   "source": [
    "##### Pvalue =0.0112"
   ]
  },
  {
   "cell_type": "markdown",
   "id": "477c9b6b",
   "metadata": {},
   "source": [
    "#### There is relationship between payment_mode and customer_satisfaction"
   ]
  },
  {
   "cell_type": "code",
   "execution_count": 39,
   "id": "a86870c7",
   "metadata": {},
   "outputs": [
    {
     "data": {
      "text/plain": [
       "<AxesSubplot:xlabel='Payment_mode'>"
      ]
     },
     "execution_count": 39,
     "metadata": {},
     "output_type": "execute_result"
    },
    {
     "data": {
      "image/png": "[encoded data removed]",
      "text/plain": [
       "<Figure size 432x288 with 1 Axes>"
      ]
     },
     "metadata": {
      "needs_background": "light"
     },
     "output_type": "display_data"
    }
   ],
   "source": [
    "table_5.plot(kind='bar',legend=False)"
   ]
  },
  {
   "cell_type": "markdown",
   "id": "424f2c9d",
   "metadata": {},
   "source": [
    "# 6."
   ]
  },
  {
   "cell_type": "markdown",
   "id": "fb2a9aee",
   "metadata": {},
   "source": [
    "#### H0: There is no relationship between any_bad_experience and customer_satisfaction"
   ]
  },
  {
   "cell_type": "markdown",
   "id": "8af2487c",
   "metadata": {},
   "source": [
    "#### vs"
   ]
  },
  {
   "cell_type": "markdown",
   "id": "cc8bb2ac",
   "metadata": {},
   "source": [
    "#### H1:There is relationship between any_bad_experience and customer_satisfaction"
   ]
  },
  {
   "cell_type": "code",
   "execution_count": 40,
   "id": "ef88819e",
   "metadata": {},
   "outputs": [
    {
     "data": {
      "text/html": [
       "<div>\n",
       "<style scoped>\n",
       "    .dataframe tbody tr th:only-of-type {\n",
       "        vertical-align: middle;\n",
       "    }\n",
       "\n",
       "    .dataframe tbody tr th {\n",
       "        vertical-align: top;\n",
       "    }\n",
       "\n",
       "    .dataframe thead tr th {\n",
       "        text-align: left;\n",
       "    }\n",
       "\n",
       "    .dataframe thead tr:last-of-type th {\n",
       "        text-align: right;\n",
       "    }\n",
       "</style>\n",
       "<table border=\"1\" class=\"dataframe\">\n",
       "  <thead>\n",
       "    <tr>\n",
       "      <th></th>\n",
       "      <th colspan=\"3\" halign=\"left\">Customer_satisfaction</th>\n",
       "    </tr>\n",
       "    <tr>\n",
       "      <th>Customer_satisfaction</th>\n",
       "      <th>Not satisfied</th>\n",
       "      <th>Satisfied</th>\n",
       "      <th>All</th>\n",
       "    </tr>\n",
       "    <tr>\n",
       "      <th>Any_bad_experience</th>\n",
       "      <th></th>\n",
       "      <th></th>\n",
       "      <th></th>\n",
       "    </tr>\n",
       "  </thead>\n",
       "  <tbody>\n",
       "    <tr>\n",
       "      <th>Multiple_times</th>\n",
       "      <td>50</td>\n",
       "      <td>20</td>\n",
       "      <td>70</td>\n",
       "    </tr>\n",
       "    <tr>\n",
       "      <th>No</th>\n",
       "      <td>104</td>\n",
       "      <td>88</td>\n",
       "      <td>192</td>\n",
       "    </tr>\n",
       "    <tr>\n",
       "      <th>Once</th>\n",
       "      <td>15</td>\n",
       "      <td>19</td>\n",
       "      <td>34</td>\n",
       "    </tr>\n",
       "    <tr>\n",
       "      <th>All</th>\n",
       "      <td>169</td>\n",
       "      <td>127</td>\n",
       "      <td>296</td>\n",
       "    </tr>\n",
       "  </tbody>\n",
       "</table>\n",
       "</div>"
      ],
      "text/plain": [
       "                      Customer_satisfaction               \n",
       "Customer_satisfaction         Not satisfied Satisfied  All\n",
       "Any_bad_experience                                        \n",
       "Multiple_times                           50        20   70\n",
       "No                                      104        88  192\n",
       "Once                                     15        19   34\n",
       "All                                     169       127  296"
      ]
     },
     "execution_count": 40,
     "metadata": {},
     "output_type": "execute_result"
    }
   ],
   "source": [
    "table_6 ,result_6=rp.crosstab(new['Any_bad_experience'],new['Customer_satisfaction'],test='chi-square')\n",
    "table_6"
   ]
  },
  {
   "cell_type": "code",
   "execution_count": 41,
   "id": "d9adb891",
   "metadata": {},
   "outputs": [
    {
     "data": {
      "text/html": [
       "<div>\n",
       "<style scoped>\n",
       "    .dataframe tbody tr th:only-of-type {\n",
       "        vertical-align: middle;\n",
       "    }\n",
       "\n",
       "    .dataframe tbody tr th {\n",
       "        vertical-align: top;\n",
       "    }\n",
       "\n",
       "    .dataframe thead th {\n",
       "        text-align: right;\n",
       "    }\n",
       "</style>\n",
       "<table border=\"1\" class=\"dataframe\">\n",
       "  <thead>\n",
       "    <tr style=\"text-align: right;\">\n",
       "      <th>Customer_satisfaction</th>\n",
       "      <th>Not satisfied</th>\n",
       "      <th>Satisfied</th>\n",
       "    </tr>\n",
       "    <tr>\n",
       "      <th>Any_bad_experience</th>\n",
       "      <th></th>\n",
       "      <th></th>\n",
       "    </tr>\n",
       "  </thead>\n",
       "  <tbody>\n",
       "    <tr>\n",
       "      <th>Multiple_times</th>\n",
       "      <td>0.295858</td>\n",
       "      <td>0.157480</td>\n",
       "    </tr>\n",
       "    <tr>\n",
       "      <th>No</th>\n",
       "      <td>0.615385</td>\n",
       "      <td>0.692913</td>\n",
       "    </tr>\n",
       "    <tr>\n",
       "      <th>Once</th>\n",
       "      <td>0.088757</td>\n",
       "      <td>0.149606</td>\n",
       "    </tr>\n",
       "  </tbody>\n",
       "</table>\n",
       "</div>"
      ],
      "text/plain": [
       "Customer_satisfaction  Not satisfied  Satisfied\n",
       "Any_bad_experience                             \n",
       "Multiple_times              0.295858   0.157480\n",
       "No                          0.615385   0.692913\n",
       "Once                        0.088757   0.149606"
      ]
     },
     "execution_count": 41,
     "metadata": {},
     "output_type": "execute_result"
    }
   ],
   "source": [
    "table_6=pd.crosstab(new['Any_bad_experience'],new['Customer_satisfaction'],normalize='columns') \n",
    "table_6"
   ]
  },
  {
   "cell_type": "code",
   "execution_count": 42,
   "id": "b7a701cf",
   "metadata": {},
   "outputs": [
    {
     "data": {
      "text/html": [
       "<div>\n",
       "<style scoped>\n",
       "    .dataframe tbody tr th:only-of-type {\n",
       "        vertical-align: middle;\n",
       "    }\n",
       "\n",
       "    .dataframe tbody tr th {\n",
       "        vertical-align: top;\n",
       "    }\n",
       "\n",
       "    .dataframe thead th {\n",
       "        text-align: right;\n",
       "    }\n",
       "</style>\n",
       "<table border=\"1\" class=\"dataframe\">\n",
       "  <thead>\n",
       "    <tr style=\"text-align: right;\">\n",
       "      <th></th>\n",
       "      <th>Chi-square test</th>\n",
       "      <th>results</th>\n",
       "    </tr>\n",
       "  </thead>\n",
       "  <tbody>\n",
       "    <tr>\n",
       "      <th>0</th>\n",
       "      <td>Pearson Chi-square ( 2.0) =</td>\n",
       "      <td>8.8804</td>\n",
       "    </tr>\n",
       "    <tr>\n",
       "      <th>1</th>\n",
       "      <td>p-value =</td>\n",
       "      <td>0.0118</td>\n",
       "    </tr>\n",
       "    <tr>\n",
       "      <th>2</th>\n",
       "      <td>Cramer's V =</td>\n",
       "      <td>0.1732</td>\n",
       "    </tr>\n",
       "  </tbody>\n",
       "</table>\n",
       "</div>"
      ],
      "text/plain": [
       "                Chi-square test  results\n",
       "0  Pearson Chi-square ( 2.0) =    8.8804\n",
       "1                    p-value =    0.0118\n",
       "2                 Cramer's V =    0.1732"
      ]
     },
     "execution_count": 42,
     "metadata": {},
     "output_type": "execute_result"
    }
   ],
   "source": [
    "result_6"
   ]
  },
  {
   "cell_type": "markdown",
   "id": "af33795c",
   "metadata": {},
   "source": [
    "##### pvalue=0.0118"
   ]
  },
  {
   "cell_type": "markdown",
   "id": "5d2c89d1",
   "metadata": {},
   "source": [
    "#### There is relationship between any_bad_experience and customer_satisfaction"
   ]
  },
  {
   "cell_type": "code",
   "execution_count": 43,
   "id": "923de6a4",
   "metadata": {},
   "outputs": [
    {
     "data": {
      "text/plain": [
       "<AxesSubplot:xlabel='Any_bad_experience'>"
      ]
     },
     "execution_count": 43,
     "metadata": {},
     "output_type": "execute_result"
    },
    {
     "data": {
      "image/png": "[encoded data removed]",
      "text/plain": [
       "<Figure size 432x288 with 1 Axes>"
      ]
     },
     "metadata": {
      "needs_background": "light"
     },
     "output_type": "display_data"
    }
   ],
   "source": [
    "table_6.plot(kind='bar',legend=False)"
   ]
  }
 ],
 "metadata": {
  "kernelspec": {
   "display_name": "Python 3 (ipykernel)",
   "language": "python",
   "name": "python3"
  },
  "language_info": {
   "codemirror_mode": {
    "name": "ipython",
    "version": 3
   },
   "file_extension": ".py",
   "mimetype": "text/x-python",
   "name": "python",
   "nbconvert_exporter": "python",
   "pygments_lexer": "ipython3",
   "version": "3.9.7"
  }
 },
 "nbformat": 4,
 "nbformat_minor": 5
}
